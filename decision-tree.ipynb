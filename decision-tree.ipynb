{
 "cells": [
  {
   "cell_type": "code",
   "execution_count": 1,
   "metadata": {
    "execution": {
     "iopub.execute_input": "2021-09-08T14:18:47.745783Z",
     "iopub.status.busy": "2021-09-08T14:18:47.744618Z",
     "iopub.status.idle": "2021-09-08T14:18:49.174837Z",
     "shell.execute_reply": "2021-09-08T14:18:49.173859Z"
    },
    "papermill": {
     "duration": 1.480579,
     "end_time": "2021-09-08T14:18:49.175058",
     "exception": false,
     "start_time": "2021-09-08T14:18:47.694479",
     "status": "completed"
    },
    "tags": []
   },
   "outputs": [],
   "source": [
    "# Libraries used\n",
    "\n",
    "import numpy as np \n",
    "import pandas as pd \n",
    "import seaborn as sns\n",
    "import matplotlib.pyplot as plt\n",
    "\n",
    "from sklearn.preprocessing import LabelEncoder, OneHotEncoder\n",
    "from sklearn.tree import DecisionTreeClassifier\n",
    "from sklearn.preprocessing import StandardScaler\n",
    "\n",
    "from numpy.random import seed\n",
    "\n",
    "seed(11111)"
   ]
  },
  {
   "cell_type": "code",
   "execution_count": 1,
   "metadata": {
    "execution": {
     "iopub.execute_input": "2021-09-08T14:18:49.283960Z",
     "iopub.status.busy": "2021-09-08T14:18:49.282891Z",
     "iopub.status.idle": "2021-09-08T14:18:49.367908Z",
     "shell.execute_reply": "2021-09-08T14:18:49.368445Z"
    },
    "papermill": {
     "duration": 0.143677,
     "end_time": "2021-09-08T14:18:49.368658",
     "exception": false,
     "start_time": "2021-09-08T14:18:49.224981",
     "status": "completed"
    },
    "tags": []
   },
   "outputs": [
    {
     "ename": "NameError",
     "evalue": "name 'pd' is not defined",
     "output_type": "error",
     "traceback": [
      "\u001b[0;31m---------------------------------------------------------------------------\u001b[0m",
      "\u001b[0;31mNameError\u001b[0m                                 Traceback (most recent call last)",
      "\u001b[0;32m<ipython-input-1-2f947e34913f>\u001b[0m in \u001b[0;36m<module>\u001b[0;34m\u001b[0m\n\u001b[1;32m      1\u001b[0m \u001b[0;31m# Reading\u001b[0m\u001b[0;34m\u001b[0m\u001b[0;34m\u001b[0m\u001b[0;34m\u001b[0m\u001b[0m\n\u001b[0;32m----> 2\u001b[0;31m \u001b[0mtrain\u001b[0m \u001b[0;34m=\u001b[0m \u001b[0mpd\u001b[0m\u001b[0;34m.\u001b[0m\u001b[0mread_csv\u001b[0m\u001b[0;34m(\u001b[0m\u001b[0;34m\"./data/train.csv\"\u001b[0m\u001b[0;34m)\u001b[0m\u001b[0;34m\u001b[0m\u001b[0;34m\u001b[0m\u001b[0m\n\u001b[0m\u001b[1;32m      3\u001b[0m \u001b[0mtest\u001b[0m \u001b[0;34m=\u001b[0m \u001b[0mpd\u001b[0m\u001b[0;34m.\u001b[0m\u001b[0mread_csv\u001b[0m\u001b[0;34m(\u001b[0m\u001b[0;34m\"./data/test.csv\"\u001b[0m\u001b[0;34m)\u001b[0m\u001b[0;34m\u001b[0m\u001b[0;34m\u001b[0m\u001b[0m\n\u001b[1;32m      4\u001b[0m \u001b[0;34m\u001b[0m\u001b[0m\n\u001b[1;32m      5\u001b[0m \u001b[0;31m# Putting on index to each dataset before split it\u001b[0m\u001b[0;34m\u001b[0m\u001b[0;34m\u001b[0m\u001b[0;34m\u001b[0m\u001b[0m\n",
      "\u001b[0;31mNameError\u001b[0m: name 'pd' is not defined"
     ]
    }
   ],
   "source": [
    "# Reading\n",
    "train = pd.read_csv(\"./data/train.csv\")\n",
    "test = pd.read_csv(\"./data/test.csv\")\n",
    "\n",
    "# Putting on index to each dataset before split it\n",
    "train = train.set_index(\"PassengerId\")\n",
    "test = test.set_index(\"PassengerId\")\n",
    "\n",
    "# dataframe \n",
    "df = pd.concat([train, test], axis=0, sort=False)\n",
    "\n",
    "df"
   ]
  },
  {
   "cell_type": "markdown",
   "metadata": {
    "papermill": {
     "duration": 0.048835,
     "end_time": "2021-09-08T14:18:49.465758",
     "exception": false,
     "start_time": "2021-09-08T14:18:49.416923",
     "status": "completed"
    },
    "tags": []
   },
   "source": [
    "As you can see Name, Sex, Ticket, Cabin, and Embarked column are objects, before processing each column we should know if there are NAs or missing values."
   ]
  },
  {
   "cell_type": "code",
   "execution_count": 3,
   "metadata": {
    "execution": {
     "iopub.execute_input": "2021-09-08T14:18:49.588802Z",
     "iopub.status.busy": "2021-09-08T14:18:49.587921Z",
     "iopub.status.idle": "2021-09-08T14:18:49.592392Z",
     "shell.execute_reply": "2021-09-08T14:18:49.591824Z"
    },
    "papermill": {
     "duration": 0.078429,
     "end_time": "2021-09-08T14:18:49.592575",
     "exception": false,
     "start_time": "2021-09-08T14:18:49.514146",
     "status": "completed"
    },
    "tags": []
   },
   "outputs": [
    {
     "name": "stdout",
     "output_type": "stream",
     "text": [
      "<class 'pandas.core.frame.DataFrame'>\n",
      "Int64Index: 1309 entries, 1 to 1309\n",
      "Data columns (total 11 columns):\n",
      " #   Column    Non-Null Count  Dtype  \n",
      "---  ------    --------------  -----  \n",
      " 0   Survived  891 non-null    float64\n",
      " 1   Pclass    1309 non-null   int64  \n",
      " 2   Name      1309 non-null   object \n",
      " 3   Sex       1309 non-null   object \n",
      " 4   Age       1046 non-null   float64\n",
      " 5   SibSp     1309 non-null   int64  \n",
      " 6   Parch     1309 non-null   int64  \n",
      " 7   Ticket    1309 non-null   object \n",
      " 8   Fare      1308 non-null   float64\n",
      " 9   Cabin     295 non-null    object \n",
      " 10  Embarked  1307 non-null   object \n",
      "dtypes: float64(3), int64(3), object(5)\n",
      "memory usage: 122.7+ KB\n"
     ]
    }
   ],
   "source": [
    "df.info()"
   ]
  },
  {
   "cell_type": "markdown",
   "metadata": {
    "papermill": {
     "duration": 0.05048,
     "end_time": "2021-09-08T14:18:49.694535",
     "exception": false,
     "start_time": "2021-09-08T14:18:49.644055",
     "status": "completed"
    },
    "tags": []
   },
   "source": [
    "There are three columns with missing values (Age, Fare and Cabin) and Survived column has NaNs because the Test dataset doesn't have that information.   "
   ]
  },
  {
   "cell_type": "code",
   "execution_count": 4,
   "metadata": {
    "execution": {
     "iopub.execute_input": "2021-09-08T14:18:49.798921Z",
     "iopub.status.busy": "2021-09-08T14:18:49.797895Z",
     "iopub.status.idle": "2021-09-08T14:18:49.809107Z",
     "shell.execute_reply": "2021-09-08T14:18:49.809748Z"
    },
    "papermill": {
     "duration": 0.0648,
     "end_time": "2021-09-08T14:18:49.809953",
     "exception": false,
     "start_time": "2021-09-08T14:18:49.745153",
     "status": "completed"
    },
    "tags": []
   },
   "outputs": [
    {
     "data": {
      "text/plain": [
       "Survived     418\n",
       "Pclass         0\n",
       "Name           0\n",
       "Sex            0\n",
       "Age          263\n",
       "SibSp          0\n",
       "Parch          0\n",
       "Ticket         0\n",
       "Fare           1\n",
       "Cabin       1014\n",
       "Embarked       2\n",
       "dtype: int64"
      ]
     },
     "execution_count": 4,
     "metadata": {},
     "output_type": "execute_result"
    }
   ],
   "source": [
    "df.isna().sum()"
   ]
  },
  {
   "cell_type": "markdown",
   "metadata": {
    "papermill": {
     "duration": 0.051747,
     "end_time": "2021-09-08T14:18:49.911548",
     "exception": false,
     "start_time": "2021-09-08T14:18:49.859801",
     "status": "completed"
    },
    "tags": []
   },
   "source": [
    "To visualize better the columns we will transform the Sex and Embarked columns to numeric. Sex column only has two categories Female and Male, Embarked column has tree labels S, C and Q."
   ]
  },
  {
   "cell_type": "code",
   "execution_count": 5,
   "metadata": {
    "execution": {
     "iopub.execute_input": "2021-09-08T14:18:50.017304Z",
     "iopub.status.busy": "2021-09-08T14:18:50.016207Z",
     "iopub.status.idle": "2021-09-08T14:18:50.026339Z",
     "shell.execute_reply": "2021-09-08T14:18:50.027241Z"
    },
    "papermill": {
     "duration": 0.065631,
     "end_time": "2021-09-08T14:18:50.027481",
     "exception": false,
     "start_time": "2021-09-08T14:18:49.961850",
     "status": "completed"
    },
    "tags": []
   },
   "outputs": [],
   "source": [
    "# Sex\n",
    "change = {'female':0,'male':1}\n",
    "df.Sex = df.Sex.map(change)\n",
    "\n",
    "# Embarked\n",
    "change = {'S':0,'C':1,'Q':2}\n",
    "df.Embarked = df.Embarked.map(change)"
   ]
  },
  {
   "cell_type": "markdown",
   "metadata": {
    "papermill": {
     "duration": 0.049437,
     "end_time": "2021-09-08T14:18:50.126487",
     "exception": false,
     "start_time": "2021-09-08T14:18:50.077050",
     "status": "completed"
    },
    "tags": []
   },
   "source": [
    "The following figure show us numeric columns vs Survived column to know the behavior. In the last fig (3,3) you can see that we are working with unbalanced dataset. "
   ]
  },
  {
   "cell_type": "code",
   "execution_count": 6,
   "metadata": {
    "execution": {
     "iopub.execute_input": "2021-09-08T14:18:50.255530Z",
     "iopub.status.busy": "2021-09-08T14:18:50.254794Z",
     "iopub.status.idle": "2021-09-08T14:18:51.426518Z",
     "shell.execute_reply": "2021-09-08T14:18:51.427030Z"
    },
    "papermill": {
     "duration": 1.246846,
     "end_time": "2021-09-08T14:18:51.427235",
     "exception": false,
     "start_time": "2021-09-08T14:18:50.180389",
     "status": "completed"
    },
    "tags": []
   },
   "outputs": [
    {
     "data": {
      "image/png": "[encoded data removed]",
      "text/plain": [
       "<Figure size 1152x1008 with 6 Axes>"
      ]
     },
     "metadata": {
      "needs_background": "light"
     },
     "output_type": "display_data"
    }
   ],
   "source": [
    "columns = ['Pclass', 'Sex','Embarked','SibSp', 'Parch','Survived']\n",
    "\n",
    "plt.figure(figsize=(16, 14))\n",
    "sns.set(font_scale= 1.2)\n",
    "sns.set_style('ticks')\n",
    "\n",
    "for i, feature in enumerate(columns):\n",
    "    plt.subplot(3, 3, i+1)\n",
    "    sns.countplot(data=df, x=feature, hue='Survived', palette='Paired')\n",
    "    \n",
    "sns.despine()"
   ]
  },
  {
   "cell_type": "code",
   "execution_count": 7,
   "metadata": {
    "execution": {
     "iopub.execute_input": "2021-09-08T14:18:51.534222Z",
     "iopub.status.busy": "2021-09-08T14:18:51.533124Z",
     "iopub.status.idle": "2021-09-08T14:18:52.489683Z",
     "shell.execute_reply": "2021-09-08T14:18:52.489029Z"
    },
    "papermill": {
     "duration": 1.011518,
     "end_time": "2021-09-08T14:18:52.489870",
     "exception": false,
     "start_time": "2021-09-08T14:18:51.478352",
     "status": "completed"
    },
    "tags": []
   },
   "outputs": [
    {
     "data": {
      "image/png": "[encoded data removed]",
      "text/plain": [
       "<Figure size 1152x1008 with 6 Axes>"
      ]
     },
     "metadata": {},
     "output_type": "display_data"
    }
   ],
   "source": [
    "columns = ['Pclass', 'Sex','Embarked','SibSp', 'Parch','Survived']\n",
    "\n",
    "plt.figure(figsize=(16, 14))\n",
    "sns.set(font_scale= 1.2)\n",
    "sns.set_style('ticks')\n",
    "\n",
    "for i, feature in enumerate(columns):\n",
    "    plt.subplot(3, 3, i+1)\n",
    "    sns.countplot(data=df, x=feature, hue='Sex', palette='BrBG')\n",
    "    \n",
    "sns.despine()"
   ]
  },
  {
   "cell_type": "markdown",
   "metadata": {
    "papermill": {
     "duration": 0.056602,
     "end_time": "2021-09-08T14:18:52.600705",
     "exception": false,
     "start_time": "2021-09-08T14:18:52.544103",
     "status": "completed"
    },
    "tags": []
   },
   "source": [
    "### 1.2. Age column"
   ]
  },
  {
   "cell_type": "code",
   "execution_count": 8,
   "metadata": {
    "execution": {
     "iopub.execute_input": "2021-09-08T14:18:52.823632Z",
     "iopub.status.busy": "2021-09-08T14:18:52.822922Z",
     "iopub.status.idle": "2021-09-08T14:18:53.199513Z",
     "shell.execute_reply": "2021-09-08T14:18:53.198853Z"
    },
    "papermill": {
     "duration": 0.43664,
     "end_time": "2021-09-08T14:18:53.199695",
     "exception": false,
     "start_time": "2021-09-08T14:18:52.763055",
     "status": "completed"
    },
    "tags": []
   },
   "outputs": [
    {
     "data": {
      "image/png": "[encoded data removed]",
      "text/plain": [
       "<Figure size 576x432 with 2 Axes>"
      ]
     },
     "metadata": {},
     "output_type": "display_data"
    }
   ],
   "source": [
    "corr_df = df.corr()\n",
    "fig, axs = plt.subplots(figsize=(8, 6))\n",
    "sns.heatmap(corr_df).set_title(\"Correlation Map\",fontdict= { 'fontsize': 20, 'fontweight':'bold'});"
   ]
  },
  {
   "cell_type": "code",
   "execution_count": 9,
   "metadata": {
    "execution": {
     "iopub.execute_input": "2021-09-08T14:18:53.320108Z",
     "iopub.status.busy": "2021-09-08T14:18:53.318005Z",
     "iopub.status.idle": "2021-09-08T14:18:53.332704Z",
     "shell.execute_reply": "2021-09-08T14:18:53.332100Z"
    },
    "papermill": {
     "duration": 0.077882,
     "end_time": "2021-09-08T14:18:53.332901",
     "exception": false,
     "start_time": "2021-09-08T14:18:53.255019",
     "status": "completed"
    },
    "tags": []
   },
   "outputs": [
    {
     "data": {
      "text/plain": [
       "Pclass  Sex  Survived\n",
       "1       0    0.0         25.0\n",
       "             1.0         35.0\n",
       "        1    0.0         45.5\n",
       "             1.0         36.0\n",
       "2       0    0.0         32.5\n",
       "             1.0         28.0\n",
       "        1    0.0         30.5\n",
       "             1.0          3.0\n",
       "3       0    0.0         22.0\n",
       "             1.0         19.0\n",
       "        1    0.0         25.0\n",
       "             1.0         25.0\n",
       "Name: Age, dtype: float64"
      ]
     },
     "execution_count": 9,
     "metadata": {},
     "output_type": "execute_result"
    }
   ],
   "source": [
    "df.groupby(['Pclass','Sex','Survived'])['Age'].median()"
   ]
  },
  {
   "cell_type": "code",
   "execution_count": 10,
   "metadata": {
    "execution": {
     "iopub.execute_input": "2021-09-08T14:18:53.446858Z",
     "iopub.status.busy": "2021-09-08T14:18:53.445823Z",
     "iopub.status.idle": "2021-09-08T14:18:53.455468Z",
     "shell.execute_reply": "2021-09-08T14:18:53.454815Z"
    },
    "papermill": {
     "duration": 0.067895,
     "end_time": "2021-09-08T14:18:53.455648",
     "exception": false,
     "start_time": "2021-09-08T14:18:53.387753",
     "status": "completed"
    },
    "tags": []
   },
   "outputs": [],
   "source": [
    "#Filling the missing values with mean of Pclass and Sex.\n",
    "df[\"Age\"].fillna(df.groupby(['Pclass','Sex'])['Age'].transform(\"mean\"), inplace=True)"
   ]
  },
  {
   "cell_type": "code",
   "execution_count": 11,
   "metadata": {
    "execution": {
     "iopub.execute_input": "2021-09-08T14:18:53.606016Z",
     "iopub.status.busy": "2021-09-08T14:18:53.590997Z",
     "iopub.status.idle": "2021-09-08T14:18:53.824115Z",
     "shell.execute_reply": "2021-09-08T14:18:53.823522Z"
    },
    "papermill": {
     "duration": 0.312531,
     "end_time": "2021-09-08T14:18:53.824270",
     "exception": false,
     "start_time": "2021-09-08T14:18:53.511739",
     "status": "completed"
    },
    "tags": []
   },
   "outputs": [
    {
     "data": {
      "image/png": "[encoded data removed]",
      "text/plain": [
       "<Figure size 720x360 with 1 Axes>"
      ]
     },
     "metadata": {},
     "output_type": "display_data"
    }
   ],
   "source": [
    "fig, axs = plt.subplots(figsize=(10, 5))\n",
    "sns.histplot(data=df, x='Age').set_title(\"Age distribution\",fontdict= { 'fontsize': 20, 'fontweight':'bold'});\n",
    "sns.despine()"
   ]
  },
  {
   "cell_type": "markdown",
   "metadata": {
    "papermill": {
     "duration": 0.058297,
     "end_time": "2021-09-08T14:18:53.938956",
     "exception": false,
     "start_time": "2021-09-08T14:18:53.880659",
     "status": "completed"
    },
    "tags": []
   },
   "source": [
    "Let's binning the columns to process it the best way."
   ]
  },
  {
   "cell_type": "code",
   "execution_count": 13,
   "metadata": {
    "execution": {
     "iopub.execute_input": "2021-09-08T14:18:54.440301Z",
     "iopub.status.busy": "2021-09-08T14:18:54.434188Z",
     "iopub.status.idle": "2021-09-08T14:18:54.443427Z",
     "shell.execute_reply": "2021-09-08T14:18:54.443945Z"
    },
    "papermill": {
     "duration": 0.0719,
     "end_time": "2021-09-08T14:18:54.444158",
     "exception": false,
     "start_time": "2021-09-08T14:18:54.372258",
     "status": "completed"
    },
    "tags": []
   },
   "outputs": [],
   "source": [
    "# converting to categorical\n",
    "df['Age'] = LabelEncoder().fit_transform(auxage) "
   ]
  },
  {
   "cell_type": "code",
   "execution_count": 14,
   "metadata": {
    "execution": {
     "iopub.execute_input": "2021-09-08T14:18:54.578205Z",
     "iopub.status.busy": "2021-09-08T14:18:54.568468Z",
     "iopub.status.idle": "2021-09-08T14:18:54.595533Z",
     "shell.execute_reply": "2021-09-08T14:18:54.596022Z"
    },
    "papermill": {
     "duration": 0.094229,
     "end_time": "2021-09-08T14:18:54.596220",
     "exception": false,
     "start_time": "2021-09-08T14:18:54.501991",
     "status": "completed"
    },
    "tags": []
   },
   "outputs": [
    {
     "data": {
      "text/html": [
       "<div>\n",
       "<style scoped>\n",
       "    .dataframe tbody tr th:only-of-type {\n",
       "        vertical-align: middle;\n",
       "    }\n",
       "\n",
       "    .dataframe tbody tr th {\n",
       "        vertical-align: top;\n",
       "    }\n",
       "\n",
       "    .dataframe thead th {\n",
       "        text-align: right;\n",
       "    }\n",
       "</style>\n",
       "<table border=\"1\" class=\"dataframe\">\n",
       "  <thead>\n",
       "    <tr style=\"text-align: right;\">\n",
       "      <th>Survived</th>\n",
       "      <th>0.0</th>\n",
       "      <th>1.0</th>\n",
       "    </tr>\n",
       "    <tr>\n",
       "      <th>Age</th>\n",
       "      <th></th>\n",
       "      <th></th>\n",
       "    </tr>\n",
       "  </thead>\n",
       "  <tbody>\n",
       "    <tr>\n",
       "      <th>0</th>\n",
       "      <td>97</td>\n",
       "      <td>82</td>\n",
       "    </tr>\n",
       "    <tr>\n",
       "      <th>1</th>\n",
       "      <td>341</td>\n",
       "      <td>200</td>\n",
       "    </tr>\n",
       "    <tr>\n",
       "      <th>2</th>\n",
       "      <td>94</td>\n",
       "      <td>55</td>\n",
       "    </tr>\n",
       "    <tr>\n",
       "      <th>3</th>\n",
       "      <td>17</td>\n",
       "      <td>5</td>\n",
       "    </tr>\n",
       "  </tbody>\n",
       "</table>\n",
       "</div>"
      ],
      "text/plain": [
       "Survived  0.0  1.0\n",
       "Age               \n",
       "0          97   82\n",
       "1         341  200\n",
       "2          94   55\n",
       "3          17    5"
      ]
     },
     "execution_count": 14,
     "metadata": {},
     "output_type": "execute_result"
    }
   ],
   "source": [
    "pd.crosstab(df['Age'], df['Survived'])"
   ]
  },
  {
   "cell_type": "code",
   "execution_count": 15,
   "metadata": {
    "execution": {
     "iopub.execute_input": "2021-09-08T14:18:54.962439Z",
     "iopub.status.busy": "2021-09-08T14:18:54.961669Z",
     "iopub.status.idle": "2021-09-08T14:18:54.964866Z",
     "shell.execute_reply": "2021-09-08T14:18:54.964218Z"
    },
    "papermill": {
     "duration": 0.075596,
     "end_time": "2021-09-08T14:18:54.965069",
     "exception": false,
     "start_time": "2021-09-08T14:18:54.889473",
     "status": "completed"
    },
    "tags": []
   },
   "outputs": [],
   "source": [
    "df[\"Fare\"].fillna(df.groupby(['Pclass', 'Sex'])['Fare'].transform(\"median\"), inplace=True)"
   ]
  },
  {
   "cell_type": "code",
   "execution_count": 16,
   "metadata": {
    "execution": {
     "iopub.execute_input": "2021-09-08T14:18:55.100776Z",
     "iopub.status.busy": "2021-09-08T14:18:55.090004Z",
     "iopub.status.idle": "2021-09-08T14:18:55.328364Z",
     "shell.execute_reply": "2021-09-08T14:18:55.329053Z"
    },
    "papermill": {
     "duration": 0.304513,
     "end_time": "2021-09-08T14:18:55.329272",
     "exception": false,
     "start_time": "2021-09-08T14:18:55.024759",
     "status": "completed"
    },
    "tags": []
   },
   "outputs": [
    {
     "data": {
      "image/png": "[encoded data removed]",
      "text/plain": [
       "<Figure size 1080x360 with 1 Axes>"
      ]
     },
     "metadata": {},
     "output_type": "display_data"
    }
   ],
   "source": [
    "auxfare = pd.cut(df['Fare'],5)\n",
    "fig, axs = plt.subplots(figsize=(15, 5))\n",
    "sns.countplot(x=auxfare, hue='Survived', data=df).set_title(\"Fare Bins\",fontdict= { 'fontsize': 20, 'fontweight':'bold'});\n",
    "sns.despine()"
   ]
  },
  {
   "cell_type": "code",
   "execution_count": 17,
   "metadata": {
    "execution": {
     "iopub.execute_input": "2021-09-08T14:18:55.462171Z",
     "iopub.status.busy": "2021-09-08T14:18:55.461187Z",
     "iopub.status.idle": "2021-09-08T14:18:55.465326Z",
     "shell.execute_reply": "2021-09-08T14:18:55.464662Z"
    },
    "papermill": {
     "duration": 0.075428,
     "end_time": "2021-09-08T14:18:55.465480",
     "exception": false,
     "start_time": "2021-09-08T14:18:55.390052",
     "status": "completed"
    },
    "tags": []
   },
   "outputs": [],
   "source": [
    "df['Fare'] = LabelEncoder().fit_transform(auxfare) "
   ]
  },
  {
   "cell_type": "code",
   "execution_count": 18,
   "metadata": {
    "execution": {
     "iopub.execute_input": "2021-09-08T14:18:55.589252Z",
     "iopub.status.busy": "2021-09-08T14:18:55.588169Z",
     "iopub.status.idle": "2021-09-08T14:18:55.615642Z",
     "shell.execute_reply": "2021-09-08T14:18:55.616182Z"
    },
    "papermill": {
     "duration": 0.09098,
     "end_time": "2021-09-08T14:18:55.616386",
     "exception": false,
     "start_time": "2021-09-08T14:18:55.525406",
     "status": "completed"
    },
    "tags": []
   },
   "outputs": [
    {
     "data": {
      "text/html": [
       "<div>\n",
       "<style scoped>\n",
       "    .dataframe tbody tr th:only-of-type {\n",
       "        vertical-align: middle;\n",
       "    }\n",
       "\n",
       "    .dataframe tbody tr th {\n",
       "        vertical-align: top;\n",
       "    }\n",
       "\n",
       "    .dataframe thead th {\n",
       "        text-align: right;\n",
       "    }\n",
       "</style>\n",
       "<table border=\"1\" class=\"dataframe\">\n",
       "  <thead>\n",
       "    <tr style=\"text-align: right;\">\n",
       "      <th>Survived</th>\n",
       "      <th>0.0</th>\n",
       "      <th>1.0</th>\n",
       "    </tr>\n",
       "    <tr>\n",
       "      <th>Fare</th>\n",
       "      <th></th>\n",
       "      <th></th>\n",
       "    </tr>\n",
       "  </thead>\n",
       "  <tbody>\n",
       "    <tr>\n",
       "      <th>0</th>\n",
       "      <td>535</td>\n",
       "      <td>303</td>\n",
       "    </tr>\n",
       "    <tr>\n",
       "      <th>1</th>\n",
       "      <td>8</td>\n",
       "      <td>25</td>\n",
       "    </tr>\n",
       "    <tr>\n",
       "      <th>2</th>\n",
       "      <td>6</td>\n",
       "      <td>11</td>\n",
       "    </tr>\n",
       "    <tr>\n",
       "      <th>3</th>\n",
       "      <td>0</td>\n",
       "      <td>3</td>\n",
       "    </tr>\n",
       "  </tbody>\n",
       "</table>\n",
       "</div>"
      ],
      "text/plain": [
       "Survived  0.0  1.0\n",
       "Fare              \n",
       "0         535  303\n",
       "1           8   25\n",
       "2           6   11\n",
       "3           0    3"
      ]
     },
     "execution_count": 18,
     "metadata": {},
     "output_type": "execute_result"
    }
   ],
   "source": [
    "pd.crosstab(df['Fare'], df['Survived'])"
   ]
  },
  {
   "cell_type": "code",
   "execution_count": 19,
   "metadata": {
    "execution": {
     "iopub.execute_input": "2021-09-08T14:18:55.991935Z",
     "iopub.status.busy": "2021-09-08T14:18:55.990851Z",
     "iopub.status.idle": "2021-09-08T14:18:56.000855Z",
     "shell.execute_reply": "2021-09-08T14:18:56.001378Z"
    },
    "papermill": {
     "duration": 0.08122,
     "end_time": "2021-09-08T14:18:56.001599",
     "exception": false,
     "start_time": "2021-09-08T14:18:55.920379",
     "status": "completed"
    },
    "tags": []
   },
   "outputs": [
    {
     "name": "stdout",
     "output_type": "stream",
     "text": [
      "mean of embarked 0.0\n"
     ]
    }
   ],
   "source": [
    "print(\"mean of embarked\",df.Embarked.median())\n",
    "\n",
    "df.Embarked.fillna(df.Embarked.median(), inplace = True)"
   ]
  },
  {
   "cell_type": "code",
   "execution_count": 20,
   "metadata": {
    "execution": {
     "iopub.execute_input": "2021-09-08T14:18:56.373488Z",
     "iopub.status.busy": "2021-09-08T14:18:56.372620Z",
     "iopub.status.idle": "2021-09-08T14:18:56.377450Z",
     "shell.execute_reply": "2021-09-08T14:18:56.376524Z"
    },
    "papermill": {
     "duration": 0.072273,
     "end_time": "2021-09-08T14:18:56.377679",
     "exception": false,
     "start_time": "2021-09-08T14:18:56.305406",
     "status": "completed"
    },
    "tags": []
   },
   "outputs": [
    {
     "name": "stdout",
     "output_type": "stream",
     "text": [
      "Percentage of missing values in the Cabin column : 77.46\n"
     ]
    }
   ],
   "source": [
    "print(\"Percentage of missing values in the Cabin column :\" ,round(df.Cabin.isna().sum()/ len(df.Cabin)*100,2))"
   ]
  },
  {
   "cell_type": "code",
   "execution_count": 21,
   "metadata": {
    "execution": {
     "iopub.execute_input": "2021-09-08T14:18:56.509006Z",
     "iopub.status.busy": "2021-09-08T14:18:56.507485Z",
     "iopub.status.idle": "2021-09-08T14:18:56.514192Z",
     "shell.execute_reply": "2021-09-08T14:18:56.513594Z"
    },
    "papermill": {
     "duration": 0.074313,
     "end_time": "2021-09-08T14:18:56.514349",
     "exception": false,
     "start_time": "2021-09-08T14:18:56.440036",
     "status": "completed"
    },
    "tags": []
   },
   "outputs": [],
   "source": [
    "df.drop(['Cabin'], axis = 1, inplace = True)"
   ]
  },
  {
   "cell_type": "code",
   "execution_count": 22,
   "metadata": {
    "execution": {
     "iopub.execute_input": "2021-09-08T14:18:56.898796Z",
     "iopub.status.busy": "2021-09-08T14:18:56.897654Z",
     "iopub.status.idle": "2021-09-08T14:18:56.901196Z",
     "shell.execute_reply": "2021-09-08T14:18:56.900656Z"
    },
    "papermill": {
     "duration": 0.077524,
     "end_time": "2021-09-08T14:18:56.901358",
     "exception": false,
     "start_time": "2021-09-08T14:18:56.823834",
     "status": "completed"
    },
    "tags": []
   },
   "outputs": [],
   "source": [
    "df['Title'] = df.Name.str.extract('([A-Za-z]+)\\.', expand = False)"
   ]
  },
  {
   "cell_type": "code",
   "execution_count": 23,
   "metadata": {
    "execution": {
     "iopub.execute_input": "2021-09-08T14:18:57.042656Z",
     "iopub.status.busy": "2021-09-08T14:18:57.041828Z",
     "iopub.status.idle": "2021-09-08T14:18:57.046847Z",
     "shell.execute_reply": "2021-09-08T14:18:57.046304Z"
    },
    "papermill": {
     "duration": 0.075829,
     "end_time": "2021-09-08T14:18:57.047004",
     "exception": false,
     "start_time": "2021-09-08T14:18:56.971175",
     "status": "completed"
    },
    "tags": []
   },
   "outputs": [
    {
     "data": {
      "text/plain": [
       "Mr          757\n",
       "Miss        260\n",
       "Mrs         197\n",
       "Master       61\n",
       "Dr            8\n",
       "Rev           8\n",
       "Col           4\n",
       "Mlle          2\n",
       "Major         2\n",
       "Ms            2\n",
       "Dona          1\n",
       "Mme           1\n",
       "Sir           1\n",
       "Jonkheer      1\n",
       "Lady          1\n",
       "Don           1\n",
       "Capt          1\n",
       "Countess      1\n",
       "Name: Title, dtype: int64"
      ]
     },
     "execution_count": 23,
     "metadata": {},
     "output_type": "execute_result"
    }
   ],
   "source": [
    "df.Title.value_counts()"
   ]
  },
  {
   "cell_type": "markdown",
   "metadata": {
    "papermill": {
     "duration": 0.063525,
     "end_time": "2021-09-08T14:18:57.173341",
     "exception": false,
     "start_time": "2021-09-08T14:18:57.109816",
     "status": "completed"
    },
    "tags": []
   },
   "source": [
    "The four titles most ocurring are Mr, Miss, Mrs and Master. "
   ]
  },
  {
   "cell_type": "code",
   "execution_count": 24,
   "metadata": {
    "execution": {
     "iopub.execute_input": "2021-09-08T14:18:57.311334Z",
     "iopub.status.busy": "2021-09-08T14:18:57.308002Z",
     "iopub.status.idle": "2021-09-08T14:18:57.318754Z",
     "shell.execute_reply": "2021-09-08T14:18:57.318197Z"
    },
    "papermill": {
     "duration": 0.082964,
     "end_time": "2021-09-08T14:18:57.318914",
     "exception": false,
     "start_time": "2021-09-08T14:18:57.235950",
     "status": "completed"
    },
    "tags": []
   },
   "outputs": [
    {
     "data": {
      "text/plain": [
       "array(['Mr', 'Mrs', 'Miss', 'Master', 'Rare'], dtype=object)"
      ]
     },
     "execution_count": 24,
     "metadata": {},
     "output_type": "execute_result"
    }
   ],
   "source": [
    "least_occuring = ['Rev','Dr','Major', 'Col', 'Capt','Jonkheer','Countess']\n",
    "\n",
    "df.Title = df.Title.replace(['Ms', 'Mlle','Mme','Lady'], 'Miss')\n",
    "df.Title = df.Title.replace(['Countess','Dona'], 'Mrs')\n",
    "df.Title = df.Title.replace(['Don','Sir'], 'Mr')\n",
    "\n",
    "df.Title = df.Title.replace(least_occuring,'Rare')\n",
    "\n",
    "df.Title.unique()"
   ]
  },
  {
   "cell_type": "code",
   "execution_count": 25,
   "metadata": {
    "execution": {
     "iopub.execute_input": "2021-09-08T14:18:57.452899Z",
     "iopub.status.busy": "2021-09-08T14:18:57.452214Z",
     "iopub.status.idle": "2021-09-08T14:18:57.470914Z",
     "shell.execute_reply": "2021-09-08T14:18:57.470377Z"
    },
    "papermill": {
     "duration": 0.08954,
     "end_time": "2021-09-08T14:18:57.471065",
     "exception": false,
     "start_time": "2021-09-08T14:18:57.381525",
     "status": "completed"
    },
    "tags": []
   },
   "outputs": [
    {
     "data": {
      "text/html": [
       "<div>\n",
       "<style scoped>\n",
       "    .dataframe tbody tr th:only-of-type {\n",
       "        vertical-align: middle;\n",
       "    }\n",
       "\n",
       "    .dataframe tbody tr th {\n",
       "        vertical-align: top;\n",
       "    }\n",
       "\n",
       "    .dataframe thead th {\n",
       "        text-align: right;\n",
       "    }\n",
       "</style>\n",
       "<table border=\"1\" class=\"dataframe\">\n",
       "  <thead>\n",
       "    <tr style=\"text-align: right;\">\n",
       "      <th>Survived</th>\n",
       "      <th>0.0</th>\n",
       "      <th>1.0</th>\n",
       "    </tr>\n",
       "    <tr>\n",
       "      <th>Title</th>\n",
       "      <th></th>\n",
       "      <th></th>\n",
       "    </tr>\n",
       "  </thead>\n",
       "  <tbody>\n",
       "    <tr>\n",
       "      <th>Master</th>\n",
       "      <td>17</td>\n",
       "      <td>23</td>\n",
       "    </tr>\n",
       "    <tr>\n",
       "      <th>Miss</th>\n",
       "      <td>55</td>\n",
       "      <td>132</td>\n",
       "    </tr>\n",
       "    <tr>\n",
       "      <th>Mr</th>\n",
       "      <td>437</td>\n",
       "      <td>82</td>\n",
       "    </tr>\n",
       "    <tr>\n",
       "      <th>Mrs</th>\n",
       "      <td>26</td>\n",
       "      <td>100</td>\n",
       "    </tr>\n",
       "    <tr>\n",
       "      <th>Rare</th>\n",
       "      <td>14</td>\n",
       "      <td>5</td>\n",
       "    </tr>\n",
       "  </tbody>\n",
       "</table>\n",
       "</div>"
      ],
      "text/plain": [
       "Survived  0.0  1.0\n",
       "Title             \n",
       "Master     17   23\n",
       "Miss       55  132\n",
       "Mr        437   82\n",
       "Mrs        26  100\n",
       "Rare       14    5"
      ]
     },
     "execution_count": 25,
     "metadata": {},
     "output_type": "execute_result"
    }
   ],
   "source": [
    "pd.crosstab(df['Title'], df['Survived'])"
   ]
  },
  {
   "cell_type": "code",
   "execution_count": 26,
   "metadata": {
    "execution": {
     "iopub.execute_input": "2021-09-08T14:18:57.605957Z",
     "iopub.status.busy": "2021-09-08T14:18:57.605176Z",
     "iopub.status.idle": "2021-09-08T14:18:57.607489Z",
     "shell.execute_reply": "2021-09-08T14:18:57.608043Z"
    },
    "papermill": {
     "duration": 0.073859,
     "end_time": "2021-09-08T14:18:57.608272",
     "exception": false,
     "start_time": "2021-09-08T14:18:57.534413",
     "status": "completed"
    },
    "tags": []
   },
   "outputs": [],
   "source": [
    "df['Title'] = LabelEncoder().fit_transform(df['Title']) "
   ]
  },
  {
   "cell_type": "code",
   "execution_count": 27,
   "metadata": {
    "execution": {
     "iopub.execute_input": "2021-09-08T14:18:57.865903Z",
     "iopub.status.busy": "2021-09-08T14:18:57.865201Z",
     "iopub.status.idle": "2021-09-08T14:18:57.873093Z",
     "shell.execute_reply": "2021-09-08T14:18:57.873686Z"
    },
    "papermill": {
     "duration": 0.075298,
     "end_time": "2021-09-08T14:18:57.873901",
     "exception": false,
     "start_time": "2021-09-08T14:18:57.798603",
     "status": "completed"
    },
    "tags": []
   },
   "outputs": [],
   "source": [
    "# I got the total number of each family adding SibSp and Parch. (1) is the same passenger.\n",
    "df['FamilySize'] = df['SibSp'] + df['Parch']+1\n",
    "df.drop(['SibSp','Parch'], axis = 1, inplace = True)"
   ]
  },
  {
   "cell_type": "code",
   "execution_count": 28,
   "metadata": {
    "execution": {
     "iopub.execute_input": "2021-09-08T14:18:58.033927Z",
     "iopub.status.busy": "2021-09-08T14:18:58.030995Z",
     "iopub.status.idle": "2021-09-08T14:18:58.317653Z",
     "shell.execute_reply": "2021-09-08T14:18:58.317068Z"
    },
    "papermill": {
     "duration": 0.370845,
     "end_time": "2021-09-08T14:18:58.317822",
     "exception": false,
     "start_time": "2021-09-08T14:18:57.946977",
     "status": "completed"
    },
    "tags": []
   },
   "outputs": [
    {
     "data": {
      "image/png": "[encoded data removed]",
      "text/plain": [
       "<Figure size 1080x360 with 1 Axes>"
      ]
     },
     "metadata": {},
     "output_type": "display_data"
    }
   ],
   "source": [
    "fig, axs = plt.subplots(figsize=(15, 5))\n",
    "sns.countplot(x='FamilySize', hue='Survived', data=df).set_title(\"Raw Column\",fontdict= { 'fontsize': 20, 'fontweight':'bold'});\n",
    "sns.despine()"
   ]
  },
  {
   "cell_type": "code",
   "execution_count": 29,
   "metadata": {
    "execution": {
     "iopub.execute_input": "2021-09-08T14:18:58.462383Z",
     "iopub.status.busy": "2021-09-08T14:18:58.461535Z",
     "iopub.status.idle": "2021-09-08T14:18:58.465049Z",
     "shell.execute_reply": "2021-09-08T14:18:58.464411Z"
    },
    "papermill": {
     "duration": 0.082173,
     "end_time": "2021-09-08T14:18:58.465214",
     "exception": false,
     "start_time": "2021-09-08T14:18:58.383041",
     "status": "completed"
    },
    "tags": []
   },
   "outputs": [],
   "source": [
    "# Binning FamilySize column\n",
    "df.loc[ df['FamilySize'] == 1, 'FamilySize'] = 0                            # Alone\n",
    "df.loc[(df['FamilySize'] > 1) & (df['FamilySize'] <= 4), 'FamilySize'] = 1  # Small Family \n",
    "df.loc[(df['FamilySize'] > 4) & (df['FamilySize'] <= 6), 'FamilySize'] = 2  # Medium Family\n",
    "df.loc[df['FamilySize']  > 6, 'FamilySize'] = 3                             # Large Family "
   ]
  },
  {
   "cell_type": "code",
   "execution_count": 30,
   "metadata": {
    "execution": {
     "iopub.execute_input": "2021-09-08T14:18:58.618294Z",
     "iopub.status.busy": "2021-09-08T14:18:58.616423Z",
     "iopub.status.idle": "2021-09-08T14:18:58.800380Z",
     "shell.execute_reply": "2021-09-08T14:18:58.800878Z"
    },
    "papermill": {
     "duration": 0.270971,
     "end_time": "2021-09-08T14:18:58.801094",
     "exception": false,
     "start_time": "2021-09-08T14:18:58.530123",
     "status": "completed"
    },
    "tags": []
   },
   "outputs": [
    {
     "data": {
      "image/png": "[encoded data removed]",
      "text/plain": [
       "<Figure size 1080x360 with 1 Axes>"
      ]
     },
     "metadata": {},
     "output_type": "display_data"
    }
   ],
   "source": [
    "fig, axs = plt.subplots(figsize=(15, 5))\n",
    "sns.countplot(x='FamilySize', hue='Survived', data=df).set_title(\"Variable Bined\",fontdict= { 'fontsize': 20, 'fontweight':'bold'});\n",
    "sns.despine()"
   ]
  },
  {
   "cell_type": "code",
   "execution_count": 31,
   "metadata": {
    "execution": {
     "iopub.execute_input": "2021-09-08T14:18:59.216071Z",
     "iopub.status.busy": "2021-09-08T14:18:59.215372Z",
     "iopub.status.idle": "2021-09-08T14:18:59.217501Z",
     "shell.execute_reply": "2021-09-08T14:18:59.217998Z"
    },
    "papermill": {
     "duration": 0.080245,
     "end_time": "2021-09-08T14:18:59.218203",
     "exception": false,
     "start_time": "2021-09-08T14:18:59.137958",
     "status": "completed"
    },
    "tags": []
   },
   "outputs": [],
   "source": [
    "df['Ticket'] = df.Ticket.str.split().apply(lambda x : 0 if x[:][-1] == 'LINE' else x[:][-1])"
   ]
  },
  {
   "cell_type": "code",
   "execution_count": 32,
   "metadata": {
    "execution": {
     "iopub.execute_input": "2021-09-08T14:18:59.353455Z",
     "iopub.status.busy": "2021-09-08T14:18:59.352401Z",
     "iopub.status.idle": "2021-09-08T14:18:59.359600Z",
     "shell.execute_reply": "2021-09-08T14:18:59.359007Z"
    },
    "papermill": {
     "duration": 0.075983,
     "end_time": "2021-09-08T14:18:59.359783",
     "exception": false,
     "start_time": "2021-09-08T14:18:59.283800",
     "status": "completed"
    },
    "tags": []
   },
   "outputs": [],
   "source": [
    "df.Ticket = df.Ticket.values.astype('int64')"
   ]
  },
  {
   "cell_type": "code",
   "execution_count": 33,
   "metadata": {
    "execution": {
     "iopub.execute_input": "2021-09-08T14:18:59.770225Z",
     "iopub.status.busy": "2021-09-08T14:18:59.769457Z",
     "iopub.status.idle": "2021-09-08T14:18:59.771381Z",
     "shell.execute_reply": "2021-09-08T14:18:59.771895Z"
    },
    "papermill": {
     "duration": 0.080837,
     "end_time": "2021-09-08T14:18:59.772100",
     "exception": false,
     "start_time": "2021-09-08T14:18:59.691263",
     "status": "completed"
    },
    "tags": []
   },
   "outputs": [],
   "source": [
    "df['LastName'] = last= df.Name.str.extract('^(.+?),', expand = False)"
   ]
  },
  {
   "cell_type": "code",
   "execution_count": 34,
   "metadata": {
    "execution": {
     "iopub.execute_input": "2021-09-08T14:19:00.182342Z",
     "iopub.status.busy": "2021-09-08T14:19:00.181615Z",
     "iopub.status.idle": "2021-09-08T14:19:00.189406Z",
     "shell.execute_reply": "2021-09-08T14:19:00.188797Z"
    },
    "papermill": {
     "duration": 0.079272,
     "end_time": "2021-09-08T14:19:00.189599",
     "exception": false,
     "start_time": "2021-09-08T14:19:00.110327",
     "status": "completed"
    },
    "tags": []
   },
   "outputs": [],
   "source": [
    "df['WomChi'] = ((df.Title == 0) | (df.Sex == 0))"
   ]
  },
  {
   "cell_type": "code",
   "execution_count": 35,
   "metadata": {
    "execution": {
     "iopub.execute_input": "2021-09-08T14:19:00.601084Z",
     "iopub.status.busy": "2021-09-08T14:19:00.600045Z",
     "iopub.status.idle": "2021-09-08T14:19:02.328699Z",
     "shell.execute_reply": "2021-09-08T14:19:02.329588Z"
    },
    "papermill": {
     "duration": 1.808556,
     "end_time": "2021-09-08T14:19:02.329906",
     "exception": false,
     "start_time": "2021-09-08T14:19:00.521350",
     "status": "completed"
    },
    "tags": []
   },
   "outputs": [],
   "source": [
    "family = df.groupby([df.LastName, df.Pclass, df.Ticket]).Survived\n",
    "\n",
    "df['FTotalCount'] = family.transform(lambda s: s[df.WomChi].fillna(0).count())\n",
    "df['FTotalCount'] = df.mask(df.WomChi, (df.FTotalCount - 1), axis=0)\n",
    "\n",
    "df['FSurvivedCount'] = family.transform(lambda s: s[df.WomChi].fillna(0).sum())\n",
    "df['FSurvivedCount'] = df.mask(df.WomChi, df.FSurvivedCount - df.Survived.fillna(0), axis=0)\n",
    "\n",
    "df['FSurvivalRate'] = (df.FSurvivedCount / df.FTotalCount.replace(0, np.nan))"
   ]
  },
  {
   "cell_type": "code",
   "execution_count": 36,
   "metadata": {
    "execution": {
     "iopub.execute_input": "2021-09-08T14:19:02.479462Z",
     "iopub.status.busy": "2021-09-08T14:19:02.478485Z",
     "iopub.status.idle": "2021-09-08T14:19:02.489433Z",
     "shell.execute_reply": "2021-09-08T14:19:02.490033Z"
    },
    "papermill": {
     "duration": 0.084046,
     "end_time": "2021-09-08T14:19:02.490264",
     "exception": false,
     "start_time": "2021-09-08T14:19:02.406218",
     "status": "completed"
    },
    "tags": []
   },
   "outputs": [
    {
     "data": {
      "text/plain": [
       "Survived           418\n",
       "Pclass               0\n",
       "Name                 0\n",
       "Sex                  0\n",
       "Age                  0\n",
       "Ticket               0\n",
       "Fare                 0\n",
       "Embarked             0\n",
       "Title                0\n",
       "FamilySize           0\n",
       "LastName             0\n",
       "WomChi               0\n",
       "FTotalCount        245\n",
       "FSurvivedCount     245\n",
       "FSurvivalRate     1014\n",
       "dtype: int64"
      ]
     },
     "execution_count": 36,
     "metadata": {},
     "output_type": "execute_result"
    }
   ],
   "source": [
    "df.isna().sum()"
   ]
  },
  {
   "cell_type": "code",
   "execution_count": 37,
   "metadata": {
    "execution": {
     "iopub.execute_input": "2021-09-08T14:19:02.651856Z",
     "iopub.status.busy": "2021-09-08T14:19:02.650458Z",
     "iopub.status.idle": "2021-09-08T14:19:02.657730Z",
     "shell.execute_reply": "2021-09-08T14:19:02.656999Z"
    },
    "papermill": {
     "duration": 0.085898,
     "end_time": "2021-09-08T14:19:02.657906",
     "exception": false,
     "start_time": "2021-09-08T14:19:02.572008",
     "status": "completed"
    },
    "tags": []
   },
   "outputs": [],
   "source": [
    "# filling the missing values\n",
    "df.FSurvivalRate.fillna(0, inplace = True)\n",
    "df.FTotalCount.fillna(0, inplace = True)\n",
    "df.FSurvivedCount.fillna(0, inplace = True)"
   ]
  },
  {
   "cell_type": "code",
   "execution_count": 38,
   "metadata": {
    "execution": {
     "iopub.execute_input": "2021-09-08T14:19:02.807837Z",
     "iopub.status.busy": "2021-09-08T14:19:02.806742Z",
     "iopub.status.idle": "2021-09-08T14:19:02.827140Z",
     "shell.execute_reply": "2021-09-08T14:19:02.827664Z"
    },
    "papermill": {
     "duration": 0.097204,
     "end_time": "2021-09-08T14:19:02.827859",
     "exception": false,
     "start_time": "2021-09-08T14:19:02.730655",
     "status": "completed"
    },
    "tags": []
   },
   "outputs": [
    {
     "data": {
      "text/html": [
       "<div>\n",
       "<style scoped>\n",
       "    .dataframe tbody tr th:only-of-type {\n",
       "        vertical-align: middle;\n",
       "    }\n",
       "\n",
       "    .dataframe tbody tr th {\n",
       "        vertical-align: top;\n",
       "    }\n",
       "\n",
       "    .dataframe thead th {\n",
       "        text-align: right;\n",
       "    }\n",
       "</style>\n",
       "<table border=\"1\" class=\"dataframe\">\n",
       "  <thead>\n",
       "    <tr style=\"text-align: right;\">\n",
       "      <th></th>\n",
       "      <th>Survived</th>\n",
       "      <th>Pclass</th>\n",
       "      <th>Name</th>\n",
       "      <th>Sex</th>\n",
       "      <th>Age</th>\n",
       "      <th>Ticket</th>\n",
       "      <th>Fare</th>\n",
       "      <th>Embarked</th>\n",
       "      <th>Title</th>\n",
       "      <th>FamilySize</th>\n",
       "      <th>LastName</th>\n",
       "      <th>WomChi</th>\n",
       "      <th>FTotalCount</th>\n",
       "      <th>FSurvivedCount</th>\n",
       "      <th>FSurvivalRate</th>\n",
       "    </tr>\n",
       "    <tr>\n",
       "      <th>PassengerId</th>\n",
       "      <th></th>\n",
       "      <th></th>\n",
       "      <th></th>\n",
       "      <th></th>\n",
       "      <th></th>\n",
       "      <th></th>\n",
       "      <th></th>\n",
       "      <th></th>\n",
       "      <th></th>\n",
       "      <th></th>\n",
       "      <th></th>\n",
       "      <th></th>\n",
       "      <th></th>\n",
       "      <th></th>\n",
       "      <th></th>\n",
       "    </tr>\n",
       "  </thead>\n",
       "  <tbody>\n",
       "    <tr>\n",
       "      <th>94</th>\n",
       "      <td>0.0</td>\n",
       "      <td>3</td>\n",
       "      <td>Dean, Mr. Bertram Frank</td>\n",
       "      <td>1</td>\n",
       "      <td>1</td>\n",
       "      <td>2315</td>\n",
       "      <td>0</td>\n",
       "      <td>0.0</td>\n",
       "      <td>2</td>\n",
       "      <td>1</td>\n",
       "      <td>Dean</td>\n",
       "      <td>False</td>\n",
       "      <td>0.0</td>\n",
       "      <td>0.0</td>\n",
       "      <td>0.0</td>\n",
       "    </tr>\n",
       "    <tr>\n",
       "      <th>789</th>\n",
       "      <td>1.0</td>\n",
       "      <td>3</td>\n",
       "      <td>Dean, Master. Bertram Vere</td>\n",
       "      <td>1</td>\n",
       "      <td>0</td>\n",
       "      <td>2315</td>\n",
       "      <td>0</td>\n",
       "      <td>0.0</td>\n",
       "      <td>0</td>\n",
       "      <td>1</td>\n",
       "      <td>Dean</td>\n",
       "      <td>True</td>\n",
       "      <td>2.0</td>\n",
       "      <td>0.0</td>\n",
       "      <td>0.0</td>\n",
       "    </tr>\n",
       "    <tr>\n",
       "      <th>924</th>\n",
       "      <td>NaN</td>\n",
       "      <td>3</td>\n",
       "      <td>Dean, Mrs. Bertram (Eva Georgetta Light)</td>\n",
       "      <td>0</td>\n",
       "      <td>1</td>\n",
       "      <td>2315</td>\n",
       "      <td>0</td>\n",
       "      <td>0.0</td>\n",
       "      <td>3</td>\n",
       "      <td>1</td>\n",
       "      <td>Dean</td>\n",
       "      <td>True</td>\n",
       "      <td>2.0</td>\n",
       "      <td>1.0</td>\n",
       "      <td>0.5</td>\n",
       "    </tr>\n",
       "    <tr>\n",
       "      <th>1246</th>\n",
       "      <td>NaN</td>\n",
       "      <td>3</td>\n",
       "      <td>Dean, Miss. Elizabeth Gladys Millvina\"\"</td>\n",
       "      <td>0</td>\n",
       "      <td>0</td>\n",
       "      <td>2315</td>\n",
       "      <td>0</td>\n",
       "      <td>0.0</td>\n",
       "      <td>1</td>\n",
       "      <td>1</td>\n",
       "      <td>Dean</td>\n",
       "      <td>True</td>\n",
       "      <td>2.0</td>\n",
       "      <td>1.0</td>\n",
       "      <td>0.5</td>\n",
       "    </tr>\n",
       "  </tbody>\n",
       "</table>\n",
       "</div>"
      ],
      "text/plain": [
       "             Survived  Pclass                                      Name  Sex  \\\n",
       "PassengerId                                                                    \n",
       "94                0.0       3                   Dean, Mr. Bertram Frank    1   \n",
       "789               1.0       3                Dean, Master. Bertram Vere    1   \n",
       "924               NaN       3  Dean, Mrs. Bertram (Eva Georgetta Light)    0   \n",
       "1246              NaN       3   Dean, Miss. Elizabeth Gladys Millvina\"\"    0   \n",
       "\n",
       "             Age  Ticket  Fare  Embarked  Title  FamilySize LastName  WomChi  \\\n",
       "PassengerId                                                                    \n",
       "94             1    2315     0       0.0      2           1     Dean   False   \n",
       "789            0    2315     0       0.0      0           1     Dean    True   \n",
       "924            1    2315     0       0.0      3           1     Dean    True   \n",
       "1246           0    2315     0       0.0      1           1     Dean    True   \n",
       "\n",
       "             FTotalCount  FSurvivedCount  FSurvivalRate  \n",
       "PassengerId                                              \n",
       "94                   0.0             0.0            0.0  \n",
       "789                  2.0             0.0            0.0  \n",
       "924                  2.0             1.0            0.5  \n",
       "1246                 2.0             1.0            0.5  "
      ]
     },
     "execution_count": 38,
     "metadata": {},
     "output_type": "execute_result"
    }
   ],
   "source": [
    "# You can review the result Family Survival Rate with these Families Heikkinen, Braund, Rice, Andersson,\n",
    "# Fortune, Asplund, Spector,Ryerson, Allison, Carter, Vander, Planke\n",
    "\n",
    "df[df['LastName'] == \"Dean\"]"
   ]
  },
  {
   "cell_type": "markdown",
   "metadata": {
    "papermill": {
     "duration": 0.068992,
     "end_time": "2021-09-08T14:19:02.964809",
     "exception": false,
     "start_time": "2021-09-08T14:19:02.895817",
     "status": "completed"
    },
    "tags": []
   },
   "source": [
    "# 3. Modeling"
   ]
  },
  {
   "cell_type": "code",
   "execution_count": 39,
   "metadata": {
    "execution": {
     "iopub.execute_input": "2021-09-08T14:19:03.112078Z",
     "iopub.status.busy": "2021-09-08T14:19:03.111364Z",
     "iopub.status.idle": "2021-09-08T14:19:03.116421Z",
     "shell.execute_reply": "2021-09-08T14:19:03.116960Z"
    },
    "papermill": {
     "duration": 0.079128,
     "end_time": "2021-09-08T14:19:03.117179",
     "exception": false,
     "start_time": "2021-09-08T14:19:03.038051",
     "status": "completed"
    },
    "tags": []
   },
   "outputs": [],
   "source": [
    "df['PassengerId'] = df.index"
   ]
  },
  {
   "cell_type": "code",
   "execution_count": 40,
   "metadata": {
    "execution": {
     "iopub.execute_input": "2021-09-08T14:19:03.260281Z",
     "iopub.status.busy": "2021-09-08T14:19:03.259605Z",
     "iopub.status.idle": "2021-09-08T14:19:03.270365Z",
     "shell.execute_reply": "2021-09-08T14:19:03.269694Z"
    },
    "papermill": {
     "duration": 0.084171,
     "end_time": "2021-09-08T14:19:03.270517",
     "exception": false,
     "start_time": "2021-09-08T14:19:03.186346",
     "status": "completed"
    },
    "tags": []
   },
   "outputs": [],
   "source": [
    "df = pd.get_dummies(df, columns=['Sex','Fare','Pclass'])"
   ]
  },
  {
   "cell_type": "code",
   "execution_count": 41,
   "metadata": {
    "execution": {
     "iopub.execute_input": "2021-09-08T14:19:03.414576Z",
     "iopub.status.busy": "2021-09-08T14:19:03.413871Z",
     "iopub.status.idle": "2021-09-08T14:19:03.419689Z",
     "shell.execute_reply": "2021-09-08T14:19:03.419096Z"
    },
    "papermill": {
     "duration": 0.081557,
     "end_time": "2021-09-08T14:19:03.419860",
     "exception": false,
     "start_time": "2021-09-08T14:19:03.338303",
     "status": "completed"
    },
    "tags": []
   },
   "outputs": [],
   "source": [
    "df.drop(['Name','LastName','WomChi','FTotalCount','FSurvivedCount','Embarked','Title'], axis = 1, inplace = True)"
   ]
  },
  {
   "cell_type": "code",
   "execution_count": 42,
   "metadata": {
    "execution": {
     "iopub.execute_input": "2021-09-08T14:19:03.565782Z",
     "iopub.status.busy": "2021-09-08T14:19:03.564883Z",
     "iopub.status.idle": "2021-09-08T14:19:03.568934Z",
     "shell.execute_reply": "2021-09-08T14:19:03.568423Z"
    },
    "papermill": {
     "duration": 0.080788,
     "end_time": "2021-09-08T14:19:03.569101",
     "exception": false,
     "start_time": "2021-09-08T14:19:03.488313",
     "status": "completed"
    },
    "tags": []
   },
   "outputs": [
    {
     "data": {
      "text/plain": [
       "Index(['Survived', 'Age', 'Ticket', 'FamilySize', 'FSurvivalRate',\n",
       "       'PassengerId', 'Sex_0', 'Sex_1', 'Fare_0', 'Fare_1', 'Fare_2', 'Fare_3',\n",
       "       'Pclass_1', 'Pclass_2', 'Pclass_3'],\n",
       "      dtype='object')"
      ]
     },
     "execution_count": 42,
     "metadata": {},
     "output_type": "execute_result"
    }
   ],
   "source": [
    "df.columns"
   ]
  },
  {
   "cell_type": "code",
   "execution_count": 43,
   "metadata": {
    "execution": {
     "iopub.execute_input": "2021-09-08T14:19:03.717289Z",
     "iopub.status.busy": "2021-09-08T14:19:03.715341Z",
     "iopub.status.idle": "2021-09-08T14:19:03.720960Z",
     "shell.execute_reply": "2021-09-08T14:19:03.720296Z"
    },
    "papermill": {
     "duration": 0.083777,
     "end_time": "2021-09-08T14:19:03.721119",
     "exception": false,
     "start_time": "2021-09-08T14:19:03.637342",
     "status": "completed"
    },
    "tags": []
   },
   "outputs": [],
   "source": [
    "# I splitted df to train and test\n",
    "train, test = df.loc[train.index], df.loc[test.index]\n",
    "\n",
    "X_train = train.drop(['PassengerId','Survived'], axis = 1)\n",
    "Y_train = train[\"Survived\"]\n",
    "train_names = X_train.columns\n",
    "\n",
    "X_test = test.drop(['PassengerId','Survived'], axis = 1)"
   ]
  },
  {
   "cell_type": "code",
   "execution_count": 45,
   "metadata": {
    "execution": {
     "iopub.execute_input": "2021-09-08T14:19:04.410475Z",
     "iopub.status.busy": "2021-09-08T14:19:04.409773Z",
     "iopub.status.idle": "2021-09-08T14:19:04.421064Z",
     "shell.execute_reply": "2021-09-08T14:19:04.420463Z"
    },
    "papermill": {
     "duration": 0.089793,
     "end_time": "2021-09-08T14:19:04.421229",
     "exception": false,
     "start_time": "2021-09-08T14:19:04.331436",
     "status": "completed"
    },
    "tags": []
   },
   "outputs": [],
   "source": [
    "# Scaler\n",
    "X_train = StandardScaler().fit_transform(X_train)\n",
    "X_test = StandardScaler().fit_transform(X_test)"
   ]
  },
  {
   "cell_type": "code",
   "execution_count": 46,
   "metadata": {
    "execution": {
     "iopub.execute_input": "2021-09-08T14:19:04.569241Z",
     "iopub.status.busy": "2021-09-08T14:19:04.568449Z",
     "iopub.status.idle": "2021-09-08T14:19:04.575693Z",
     "shell.execute_reply": "2021-09-08T14:19:04.576374Z"
    },
    "papermill": {
     "duration": 0.084946,
     "end_time": "2021-09-08T14:19:04.576632",
     "exception": false,
     "start_time": "2021-09-08T14:19:04.491686",
     "status": "completed"
    },
    "tags": []
   },
   "outputs": [
    {
     "name": "stdout",
     "output_type": "stream",
     "text": [
      "Accuracy of the model:  99.89\n"
     ]
    }
   ],
   "source": [
    "decision_tree = DecisionTreeClassifier()\n",
    "decision_tree.fit(X_train, Y_train)\n",
    "Y_predDT = decision_tree.predict(X_test)\n",
    "\n",
    "print(\"Accuracy of the model: \",round(decision_tree.score(X_train, Y_train) * 100, 2))"
   ]
  }
 ],
 "metadata": {
  "kernelspec": {
   "display_name": "Python 3",
   "language": "python",
   "name": "python3"
  },
  "language_info": {
   "codemirror_mode": {
    "name": "ipython",
    "version": 3
   },
   "file_extension": ".py",
   "mimetype": "text/x-python",
   "name": "python",
   "nbconvert_exporter": "python",
   "pygments_lexer": "ipython3",
   "version": "3.8.10"
  },
  "papermill": {
   "default_parameters": {},
   "duration": 28.883536,
   "end_time": "2021-09-08T14:19:06.735678",
   "environment_variables": {},
   "exception": null,
   "input_path": "__notebook__.ipynb",
   "output_path": "__notebook__.ipynb",
   "parameters": {},
   "start_time": "2021-09-08T14:18:37.852142",
   "version": "2.3.3"
  }
 },
 "nbformat": 4,
 "nbformat_minor": 5
}
